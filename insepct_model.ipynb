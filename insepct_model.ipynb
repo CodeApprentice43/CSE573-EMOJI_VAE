{
 "cells": [
  {
   "cell_type": "code",
   "execution_count": null,
   "id": "2835ac88",
   "metadata": {},
   "outputs": [],
   "source": [
    "import torch\n",
    "checkpoint = torch.load(\"vae_model.pt\",map_location='cpu')\n",
    "\n",
    "type(checkpoint)"
   ]
  }
 ],
 "metadata": {
  "kernelspec": {
   "display_name": "venv (3.13.5)",
   "language": "python",
   "name": "python3"
  },
  "language_info": {
   "name": "python",
   "version": "3.13.5"
  }
 },
 "nbformat": 4,
 "nbformat_minor": 5
}
